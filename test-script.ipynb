{
 "cells": [
  {
   "cell_type": "markdown",
   "metadata": {},
   "source": [
    "Auther: Aditya Vora (October 27, 2016)\n",
    "\n",
    "# Introduction\n",
    "\n",
    "* This script contains the code to test the fine tuned C3D model. We had fine tuned the current C3D model which had 437 classes to a network which have 2 classes. The script is currently tested for KTH test videos. "
   ]
  },
  {
   "cell_type": "code",
   "execution_count": null,
   "metadata": {
    "collapsed": false
   },
   "outputs": [],
   "source": [
    "# Import the libraries\n",
    "import theano \n",
    "import theano.tensor as T\n",
    "import numpy as np\n",
    "import time\n",
    "import cv2\n",
    "from cv2.cv import *\n",
    "dtensor5 = theano.tensor.TensorType(theano.config.floatX, (False,)*5)\n",
    "input_var = dtensor5('inputs')\n",
    "APPROXIMATE_MEAN = 127.0"
   ]
  },
  {
   "cell_type": "code",
   "execution_count": null,
   "metadata": {
    "collapsed": true
   },
   "outputs": [],
   "source": [
    "import lasagne\n",
    "from lasagne.layers.shape import PadLayer\n",
    "from lasagne.layers import InputLayer, DenseLayer, NonlinearityLayer\n",
    "from lasagne.layers.dnn import Conv3DDNNLayer, MaxPool3DDNNLayer\n",
    "from lasagne.nonlinearities import softmax"
   ]
  },
  {
   "cell_type": "code",
   "execution_count": null,
   "metadata": {
    "collapsed": true
   },
   "outputs": [],
   "source": [
    "# Define the model as per the changes made during fine tuning\n",
    "net = {}\n",
    "net['input'] = InputLayer((None, 3, 16, 112, 112))\n",
    "\n",
    "# ----------- 1st layer group ---------------\n",
    "net['conv1a'] = Conv3DDNNLayer(net['input'], 64, (3,3,3), pad=1,nonlinearity=lasagne.nonlinearities.rectify,\n",
    "                               flip_filters=False)\n",
    "net['pool1']  = MaxPool3DDNNLayer(net['conv1a'],pool_size=(1,2,2),stride=(1,2,2))\n",
    "\n",
    "# ------------- 2nd layer group --------------\n",
    "net['conv2a'] = Conv3DDNNLayer(net['pool1'], 128, (3,3,3), pad=1,nonlinearity=lasagne.nonlinearities.rectify)\n",
    "net['pool2']  = MaxPool3DDNNLayer(net['conv2a'],pool_size=(2,2,2),stride=(2,2,2))\n",
    "\n",
    "# ----------------- 3rd layer group --------------\n",
    "net['conv3a'] = Conv3DDNNLayer(net['pool2'], 256, (3,3,3), pad=1,nonlinearity=lasagne.nonlinearities.rectify)\n",
    "net['conv3b'] = Conv3DDNNLayer(net['conv3a'], 256, (3,3,3), pad=1,nonlinearity=lasagne.nonlinearities.rectify)\n",
    "net['pool3']  = MaxPool3DDNNLayer(net['conv3b'],pool_size=(2,2,2),stride=(2,2,2))\n",
    "\n",
    "# ----------------- 4th layer group --------------\n",
    "net['conv4a'] = Conv3DDNNLayer(net['pool3'], 512, (3,3,3), pad=1,nonlinearity=lasagne.nonlinearities.rectify)\n",
    "net['conv4b'] = Conv3DDNNLayer(net['conv4a'], 512, (3,3,3), pad=1,nonlinearity=lasagne.nonlinearities.rectify)\n",
    "net['pool4']  = MaxPool3DDNNLayer(net['conv4b'],pool_size=(2,2,2),stride=(2,2,2))\n",
    "\n",
    "# ----------------- 5th layer group --------------\n",
    "net['conv5a'] = Conv3DDNNLayer(net['pool4'], 512, (3,3,3), pad=1,nonlinearity=lasagne.nonlinearities.rectify)\n",
    "net['conv5b'] = Conv3DDNNLayer(net['conv5a'], 512, (3,3,3), pad=1,nonlinearity=lasagne.nonlinearities.rectify)\n",
    "# We need a padding layer, as C3D only pads on the right, which cannot be done with a theano pooling layer\n",
    "net['pad']    = PadLayer(net['conv5b'],width=[(0,1),(0,1)], batch_ndim=3)\n",
    "net['pool5']  = MaxPool3DDNNLayer(net['pad'],pool_size=(2,2,2),pad=(0,0,0),stride=(2,2,2))\n",
    "net['fc6-1']  = DenseLayer(net['pool5'], num_units=4096,nonlinearity=lasagne.nonlinearities.rectify)\n",
    "net['fc7-1']  = DenseLayer(net['fc6-1'], num_units=4096,nonlinearity=lasagne.nonlinearities.rectify)\n",
    "net['output_layer']  = DenseLayer(net['fc7-1'], num_units=2, nonlinearity=lasagne.nonlinearities.softmax)"
   ]
  },
  {
   "cell_type": "code",
   "execution_count": null,
   "metadata": {
    "collapsed": false
   },
   "outputs": [],
   "source": [
    "# Load the parameters and set the current weights of the network with this parameters.\n",
    "with np.load('./best-models/c3d-0001/best_model.npz') as f:\n",
    "        param_values = [f['arr_%d' % i] for i in range(len(f.files))]\n",
    "lasagne.layers.set_all_param_values(net['output_layer'], param_values)"
   ]
  },
  {
   "cell_type": "code",
   "execution_count": null,
   "metadata": {
    "collapsed": false
   },
   "outputs": [],
   "source": [
    "prediction = lasagne.layers.get_output(net['output_layer'],input_var, deterministic=True)\n",
    "pred_func = theano.function([input_var], [prediction])"
   ]
  },
  {
   "cell_type": "code",
   "execution_count": null,
   "metadata": {
    "collapsed": true
   },
   "outputs": [],
   "source": [
    "videopath = \"./test-videos/person23_walking_d1_uncomp_mod.avi\"\n",
    "capture = cv2.VideoCapture()\n",
    "success = capture.open(videopath)"
   ]
  },
  {
   "cell_type": "code",
   "execution_count": null,
   "metadata": {
    "collapsed": true
   },
   "outputs": [],
   "source": [
    "if not success:\n",
    "        print \"Couldn't open video %s.\" % videopath"
   ]
  },
  {
   "cell_type": "code",
   "execution_count": null,
   "metadata": {
    "collapsed": true
   },
   "outputs": [],
   "source": [
    "import time\n",
    "frame_count = int(capture.get(CV_CAP_PROP_FRAME_COUNT))\n",
    "clip = np.empty((1,3,frame_count,112,112), dtype=np.int16)\n",
    "start_frame = 0\n",
    "end_frame = 16 "
   ]
  },
  {
   "cell_type": "code",
   "execution_count": null,
   "metadata": {
    "collapsed": false
   },
   "outputs": [],
   "source": [
    "# Classification section.\n",
    "toc = time.time()    \n",
    "for i in xrange(frame_count):\n",
    "    frame_available, frame = capture.read()\n",
    "    if not frame_available:\n",
    "        print \"Ran out of frames when reading\", videopath\n",
    "        break  \n",
    "    clip[:,:,i] = frame.transpose(2,0,1) - APPROXIMATE_MEAN\n",
    "    if(i>=15):\n",
    "        probabilities = pred_func(clip[:,:,start_frame:end_frame])\n",
    "        start_frame += 1\n",
    "        end_frame += 1\n",
    "        arr = probabilities[0]\n",
    "        out = arr[0]\n",
    "        if out[0] > out[1]:\n",
    "            text = \"running\"\n",
    "        else:\n",
    "            text = \"walking\"\n",
    "        print text\n",
    "tic = time.time()\n",
    "print \"Time Taken: %0.4f msec\"%(1000*(tic-toc))"
   ]
  },
  {
   "cell_type": "code",
   "execution_count": null,
   "metadata": {
    "collapsed": true
   },
   "outputs": [],
   "source": []
  }
 ],
 "metadata": {
  "kernelspec": {
   "display_name": "Python 2",
   "language": "python",
   "name": "python2"
  },
  "language_info": {
   "codemirror_mode": {
    "name": "ipython",
    "version": 2
   },
   "file_extension": ".py",
   "mimetype": "text/x-python",
   "name": "python",
   "nbconvert_exporter": "python",
   "pygments_lexer": "ipython2",
   "version": "2.7.11"
  }
 },
 "nbformat": 4,
 "nbformat_minor": 0
}
